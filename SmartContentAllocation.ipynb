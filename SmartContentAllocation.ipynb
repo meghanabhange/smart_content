{
 "cells": [
  {
   "cell_type": "code",
   "execution_count": null,
   "metadata": {
    "id": "311DiTrE9iQ6"
   },
   "outputs": [],
   "source": [
    "!pip install fuzzywuzzy"
   ]
  },
  {
   "cell_type": "code",
   "execution_count": null,
   "metadata": {
    "id": "HkCRxhg49n9w"
   },
   "outputs": [],
   "source": [
    "import json\n",
    "from collections import OrderedDict\n",
    "from pathlib import Path\n",
    "\n",
    "import pandas as pd\n",
    "import requests\n",
    "from fuzzywuzzy import fuzz, process\n",
    "from tqdm import tqdm\n",
    "\n",
    "from bs4 import BeautifulSoup"
   ]
  },
  {
   "cell_type": "code",
   "execution_count": null,
   "metadata": {
    "id": "g1a7E_oJ9t_G"
   },
   "outputs": [],
   "source": [
    "data_path = Path(\"output.json\")\n",
    "data = json.load(data_path.open())\n",
    "df = pd.read_csv(\"map_concepts_activities_topics_Python_MasteryGrids_latest_course.csv\")"
   ]
  },
  {
   "cell_type": "code",
   "execution_count": null,
   "metadata": {
    "id": "W0VjjLui9f3L"
   },
   "outputs": [],
   "source": [
    "def get_parsed_text(code):\n",
    "    data = {\"code\": code, \"mode\": \"simple\"}\n",
    "    response = requests.post(\"http://acos.cs.hut.fi/python-parser\", data=data)\n",
    "    try:\n",
    "        output = [v for k, v in response.json()[\"lines\"].items()][0]\n",
    "        return output\n",
    "    except:\n",
    "        return []\n",
    "\n",
    "\n",
    "def get_smart_content(code_types, keywords=None):\n",
    "    output = []\n",
    "    for t in code_types:\n",
    "        matched_content = df[df[\"component_name\"] == t]\n",
    "        for i, row in matched_content.iterrows():\n",
    "            if keywords:\n",
    "                extacted = process.extractOne(row[\"topic_name\"], keywords)\n",
    "                if extacted and extacted[1] > 70:\n",
    "                    output.append({\"url\": row[\"url\"], \"topic_name\": row[\"topic_name\"]})\n",
    "            else:\n",
    "                output.append({\"url\": row[\"url\"], \"topic_name\": row[\"topic_name\"]})\n",
    "    return {\"Matched Smart Content\": output}"
   ]
  },
  {
   "cell_type": "code",
   "execution_count": null,
   "metadata": {
    "id": "gWuqaOM596KX"
   },
   "outputs": [],
   "source": [
    "chapterwise = {}\n",
    "for chapter in tqdm(data):\n",
    "    code = [\n",
    "        ele[\"code_segment\"] for ele in data[chapter][\"content\"] if ele[\"code_segment\"]\n",
    "    ]\n",
    "    code_snippets = [ele[\"execcode\"] for item in code for ele in item]\n",
    "\n",
    "    keywords = data[chapter][\"concepts\"]\n",
    "    matched_key = []\n",
    "    matched = []\n",
    "    for code_snippet in code_snippets:\n",
    "        code_types = get_parsed_text(code_snippet)\n",
    "        matched_content = get_smart_content(code_types)\n",
    "        matched.append(matched_content)\n",
    "\n",
    "        matched_content = get_smart_content(code_types, keywords)\n",
    "        matched_key.append(matched_content)\n",
    "\n",
    "    number = chapter[:-5].split(\"-\")[0]\n",
    "    chapterwise[number] = {}\n",
    "\n",
    "    chapterwise[number][f\"Chapter Name\"] = chapter[:-5].replace(\"-\", \" \")\n",
    "\n",
    "    chapterwise[number][f\"Number of Sections\"] = len(data[chapter][\"all_topics\"]) - 2\n",
    "\n",
    "    chapterwise[number][f\"Number of New Topics\"] = len(data[chapter][\"concepts\"])\n",
    "\n",
    "    chapterwise[number][f\"Number of Code Snippets\"] = len(code_snippets)\n",
    "\n",
    "    chapterwise[number][f\"Matched Content Based on Code Snippets In the Chapter\"] = len(\n",
    "        [ele for x in matched for ele in x[\"Matched Smart Content\"]]\n",
    "    )\n",
    "\n",
    "    chapterwise[number][f\"Matched Content (Without Keywords)\"] = matched\n",
    "\n",
    "    chapterwise[number][f\"Matched Content Filtered By Keywords\"] = len(\n",
    "        [ele for x in matched_key for ele in x[\"Matched Smart Content\"]]\n",
    "    )\n",
    "\n",
    "    chapterwise[number][f\"Matched Content (With Keywords)\"] = matched_key"
   ]
  },
  {
   "cell_type": "code",
   "execution_count": null,
   "metadata": {
    "id": "B8Ga2KLs99Lb"
   },
   "outputs": [],
   "source": [
    "chapterwise = OrderedDict(sorted(chapterwise.items()))\n",
    "for ele in chapterwise:\n",
    "    print(\"--------------------------\")\n",
    "    for key, value in chapterwise[ele].items():\n",
    "        if not (\n",
    "            key\n",
    "            in (\"Matched Content (With Keywords)\", \"Matched Content (Without Keywords)\")\n",
    "        ):\n",
    "            print(f\"{key} : {value}\")\n",
    "    print(\"--------------------------\\n\")\n",
    "\n",
    "json.dump(chapterwise, Path(\"ChapterwiseSmartContent.json\").open(\"w\"), indent=2)"
   ]
  },
  {
   "cell_type": "code",
   "execution_count": null,
   "metadata": {
    "id": "saT2U6XKJ9CG"
   },
   "outputs": [],
   "source": [
    "sectionwise = {}\n",
    "for chapter in tqdm(data):\n",
    "    chapter_name = chapter[:-5].replace(\"-\", \" \")\n",
    "    for number in range(len(data[chapter][\"content\"])):\n",
    "        element = data[chapter][\"content\"][number]\n",
    "\n",
    "        if element[\"code_segment\"]:\n",
    "            text = \" \".join(element[\"text\"])\n",
    "            concepts = data[chapter][\"concepts\"]\n",
    "\n",
    "            keywords = [process.extractOne(element[\"Topic\"], concepts)[0]]\n",
    "            print(keywords, \"\\t\", element[\"Topic\"])\n",
    "\n",
    "            code = element[\"code_segment\"]\n",
    "            code_snippets = [ele[\"execcode\"] for ele in code]\n",
    "\n",
    "            matched_key = []\n",
    "            matched = []\n",
    "            for code_snippet in code_snippets:\n",
    "                code_types = get_parsed_text(code_snippet)\n",
    "                matched_content = get_smart_content(code_types)\n",
    "                matched.append(matched_content)\n",
    "\n",
    "                matched_content = get_smart_content(code_types, keywords)\n",
    "                matched_key.append(matched_content)\n",
    "\n",
    "            sectionwise[f\"{chapter_name}_{number}\"] = {}\n",
    "\n",
    "            sectionwise[f\"{chapter_name}_{number}\"][f\"Chapter Name\"] = chapter_name\n",
    "\n",
    "            sectionwise[f\"{chapter_name}_{number}\"][f\"Section Name\"] = element[\"Topic\"]\n",
    "\n",
    "            sectionwise[f\"{chapter_name}_{number}\"][\n",
    "                f\"{chapter_name}_{number} of New Topics\"\n",
    "            ] = len(keywords)\n",
    "\n",
    "            sectionwise[f\"{chapter_name}_{number}\"][\n",
    "                f\"Matched Content Based on Code Snippets In the Chapter\"\n",
    "            ] = len([ele for x in matched for ele in x[\"Matched Smart Content\"]])\n",
    "\n",
    "            sectionwise[f\"{chapter_name}_{number}\"][\n",
    "                f\"Matched Content (Without Keywords)\"\n",
    "            ] = matched\n",
    "\n",
    "            sectionwise[f\"{chapter_name}_{number}\"][\n",
    "                f\"Matched Content Filtered By Keywords\"\n",
    "            ] = len([ele for x in matched_key for ele in x[\"Matched Smart Content\"]])\n",
    "\n",
    "            sectionwise[f\"{chapter_name}_{number}\"][\n",
    "                f\"Matched Content (With Keywords)\"\n",
    "            ] = matched_key"
   ]
  },
  {
   "cell_type": "code",
   "execution_count": null,
   "metadata": {
    "id": "zC8Q60HXM7ss"
   },
   "outputs": [],
   "source": [
    "sectionwise = OrderedDict(sorted(sectionwise.items()))\n",
    "for ele in sectionwise:\n",
    "    print(\"--------------------------\")\n",
    "    for key, value in sectionwise[ele].items():\n",
    "        if not (\n",
    "            key\n",
    "            in (\"Matched Content (With Keywords)\", \"Matched Content (Without Keywords)\")\n",
    "        ):\n",
    "            print(f\"{key} : {value}\")\n",
    "    print(\"--------------------------\\n\")\n",
    "\n",
    "json.dump(sectionwise, Path(\"SectionwiseSmartContent.json\").open(\"w\"), indent=2)"
   ]
  },
  {
   "cell_type": "code",
   "execution_count": null,
   "metadata": {
    "id": "2KBdjXJKM73R"
   },
   "outputs": [],
   "source": []
  }
 ],
 "metadata": {
  "colab": {
   "collapsed_sections": [],
   "name": "SmartContentAllocation.ipynb",
   "private_outputs": true,
   "provenance": []
  },
  "kernelspec": {
   "display_name": "Python 3",
   "language": "python",
   "name": "python3"
  },
  "language_info": {
   "codemirror_mode": {
    "name": "ipython",
    "version": 3
   },
   "file_extension": ".py",
   "mimetype": "text/x-python",
   "name": "python",
   "nbconvert_exporter": "python",
   "pygments_lexer": "ipython3",
   "version": "3.6.12"
  }
 },
 "nbformat": 4,
 "nbformat_minor": 1
}
